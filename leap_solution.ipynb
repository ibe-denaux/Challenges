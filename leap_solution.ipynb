{
 "cells": [
  {
   "cell_type": "code",
   "execution_count": 36,
   "metadata": {},
   "outputs": [
    {
     "data": {
      "text/plain": [
       "True"
      ]
     },
     "execution_count": 36,
     "metadata": {},
     "output_type": "execute_result"
    }
   ],
   "source": [
    "def is_leap_year(testyear):\n",
    "    if ((testyear)%4==0 and (testyear)%100!=0 or (testyear)%400==0):\n",
    "         return True\n",
    "    else:\n",
    "        return False\n",
    "is_leap_year(1996)"
   ]
  },
  {
   "cell_type": "code",
   "execution_count": 37,
   "metadata": {},
   "outputs": [
    {
     "name": "stderr",
     "output_type": "stream",
     "text": [
      "test_century (__main__.YearTest) ... ok\n",
      "test_exceptional_century (__main__.YearTest) ... ok\n",
      "test_leap_year (__main__.YearTest) ... ok\n",
      "test_non_leap_even_year (__main__.YearTest) ... ok\n",
      "test_non_leap_year (__main__.YearTest) ... ok\n",
      "\n",
      "----------------------------------------------------------------------\n",
      "Ran 5 tests in 0.011s\n",
      "\n",
      "OK\n"
     ]
    },
    {
     "data": {
      "text/plain": [
       "<unittest.main.TestProgram at 0x1042fea60>"
      ]
     },
     "execution_count": 37,
     "metadata": {},
     "output_type": "execute_result"
    }
   ],
   "source": [
    "import unittest\n",
    "\n",
    "class YearTest(unittest.TestCase):\n",
    "    def test_leap_year(self):\n",
    "        self.assertIs(is_leap_year(1996), True)\n",
    "\n",
    "    def test_non_leap_year(self):\n",
    "        self.assertIs(is_leap_year(1997), False)\n",
    "\n",
    "    def test_non_leap_even_year(self):\n",
    "        self.assertIs(is_leap_year(1998), False)\n",
    "\n",
    "    def test_century(self):\n",
    "        self.assertIs(is_leap_year(1900), False)\n",
    "\n",
    "    def test_exceptional_century(self):\n",
    "        self.assertIs(is_leap_year(2400), True)\n",
    "\n",
    "unittest.main(argv=[''], verbosity=2, exit=False)"
   ]
  },
  {
   "cell_type": "code",
   "execution_count": null,
   "metadata": {},
   "outputs": [],
   "source": []
  }
 ],
 "metadata": {
  "kernelspec": {
   "display_name": "Python 3",
   "language": "python",
   "name": "python3"
  },
  "language_info": {
   "codemirror_mode": {
    "name": "ipython",
    "version": 3
   },
   "file_extension": ".py",
   "mimetype": "text/x-python",
   "name": "python",
   "nbconvert_exporter": "python",
   "pygments_lexer": "ipython3",
   "version": "3.8.3"
  }
 },
 "nbformat": 4,
 "nbformat_minor": 4
}
