{
 "cells": [
  {
   "cell_type": "code",
   "execution_count": 1,
   "metadata": {},
   "outputs": [],
   "source": [
    "def hello(name = 'World'):\n",
    "    if len(name)>0:\n",
    "        return (\"Hello, {}!\".format(name))"
   ]
  },
  {
   "cell_type": "code",
   "execution_count": 4,
   "metadata": {},
   "outputs": [
    {
     "data": {
      "text/plain": [
       "'Hello, World!'"
      ]
     },
     "execution_count": 4,
     "metadata": {},
     "output_type": "execute_result"
    }
   ],
   "source": [
    "hello ()"
   ]
  },
  {
   "cell_type": "code",
   "execution_count": 9,
   "metadata": {},
   "outputs": [
    {
     "name": "stderr",
     "output_type": "stream",
     "text": [
      "test_hello_with_other_sample_name (__main__.HelloWorldTests) ... ok\n",
      "test_hello_with_sample_name (__main__.HelloWorldTests) ... ok\n",
      "test_hello_with_umlaut_name (__main__.HelloWorldTests) ... ok\n",
      "test_hello_without_name (__main__.HelloWorldTests) ... ok\n",
      "\n",
      "----------------------------------------------------------------------\n",
      "Ran 4 tests in 0.013s\n",
      "\n",
      "OK\n"
     ]
    },
    {
     "data": {
      "text/plain": [
       "<unittest.main.TestProgram at 0x112540f40>"
      ]
     },
     "execution_count": 9,
     "metadata": {},
     "output_type": "execute_result"
    }
   ],
   "source": [
    "import unittest\n",
    "\n",
    "class HelloWorldTests(unittest.TestCase):\n",
    "\n",
    "    def test_hello_without_name(self):\n",
    "        self.assertEqual(\n",
    "            'Hello, World!',\n",
    "            hello_world.hello()\n",
    "        )\n",
    "\n",
    "    def test_hello_with_sample_name(self):\n",
    "        self.assertEqual(\n",
    "            'Hello, Alice!',\n",
    "            hello_world.hello('Alice')\n",
    "        )\n",
    "\n",
    "    def test_hello_with_other_sample_name(self):\n",
    "        self.assertEqual(\n",
    "            'Hello, Bob!',\n",
    "            hello_world.hello('Bob')\n",
    "        )\n",
    "\n",
    "    def test_hello_with_umlaut_name(self):\n",
    "        self.assertEqual(\n",
    "            'Hello, Jürgen!',\n",
    "            hello_world.hello('Jürgen')\n",
    "        )\n",
    "\n",
    "unittest.main(argv=[''], verbosity=2, exit=False)"
   ]
  },
  {
   "cell_type": "code",
   "execution_count": null,
   "metadata": {},
   "outputs": [],
   "source": []
  }
 ],
 "metadata": {
  "kernelspec": {
   "display_name": "Python 3",
   "language": "python",
   "name": "python3"
  },
  "language_info": {
   "codemirror_mode": {
    "name": "ipython",
    "version": 3
   },
   "file_extension": ".py",
   "mimetype": "text/x-python",
   "name": "python",
   "nbconvert_exporter": "python",
   "pygments_lexer": "ipython3",
   "version": "3.8.3"
  }
 },
 "nbformat": 4,
 "nbformat_minor": 4
}
